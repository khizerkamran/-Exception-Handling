{
 "cells": [
  {
   "cell_type": "code",
   "execution_count": null,
   "metadata": {},
   "outputs": [],
   "source": [
    "try:\n",
    "    num = int(input('Enter your age:'))\n",
    "    assert num % 2 == 0\n",
    "except:\n",
    "    print('Not a even nuber your age is too low you canot play this game ')\n",
    "else:\n",
    "        print('you can play this game')"
   ]
  },
  {
   "cell_type": "code",
   "execution_count": 20,
   "metadata": {},
   "outputs": [
    {
     "name": "stdout",
     "output_type": "stream",
     "text": [
      "this number is not equal pls try again(the number should be c=10)\n"
     ]
    }
   ],
   "source": [
    "try:\n",
    "    c=10\n",
    "    print(c=9)\n",
    "except:\n",
    "    print('this number is not equal pls try again(the number should be c=10)')"
   ]
  },
  {
   "cell_type": "code",
   "execution_count": null,
   "metadata": {},
   "outputs": [],
   "source": [
    "try:\n",
    "\n",
    "    num = int(input('enter your password'))\n",
    "except:\n",
    "    c=156\n",
    "    print('your password is correct')\n",
    "else:\n",
    "    print('incorrect password')"
   ]
  },
  {
   "cell_type": "code",
   "execution_count": null,
   "metadata": {},
   "outputs": [],
   "source": [
    "try:\n",
    "\n",
    "    num = int(input('enter your password'))\n",
    "except:\n",
    "    c=123\n",
    "    if(c==123):\n",
    "        print('your password is correct')\n",
    "    \n",
    "else:\n",
    "\n",
    "    print('incorrect password')"
   ]
  },
  {
   "cell_type": "code",
   "execution_count": null,
   "metadata": {},
   "outputs": [],
   "source": []
  },
  {
   "cell_type": "code",
   "execution_count": null,
   "metadata": {},
   "outputs": [],
   "source": []
  }
 ],
 "metadata": {
  "kernelspec": {
   "display_name": "Python 3",
   "language": "python",
   "name": "python3"
  },
  "language_info": {
   "codemirror_mode": {
    "name": "ipython",
    "version": 3
   },
   "file_extension": ".py",
   "mimetype": "text/x-python",
   "name": "python",
   "nbconvert_exporter": "python",
   "pygments_lexer": "ipython3",
   "version": "3.8.6"
  }
 },
 "nbformat": 4,
 "nbformat_minor": 4
}
